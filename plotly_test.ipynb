{
  "nbformat": 4,
  "nbformat_minor": 0,
  "metadata": {
    "colab": {
      "provenance": [],
      "authorship_tag": "ABX9TyMPWInkevtVUjqkeIU6ruAo",
      "include_colab_link": true
    },
    "kernelspec": {
      "name": "python3",
      "display_name": "Python 3"
    },
    "language_info": {
      "name": "python"
    }
  },
  "cells": [
    {
      "cell_type": "markdown",
      "metadata": {
        "id": "view-in-github",
        "colab_type": "text"
      },
      "source": [
        "<a href=\"https://colab.research.google.com/github/moira-andrews/codeastro_project/blob/main/plotly_test.ipynb\" target=\"_parent\"><img src=\"https://colab.research.google.com/assets/colab-badge.svg\" alt=\"Open In Colab\"/></a>"
      ]
    },
    {
      "cell_type": "code",
      "source": [
        "%%capture\n",
        "!pip install dash-slicer\n",
        "!pip install dash\n",
        "!pip install plotly"
      ],
      "metadata": {
        "id": "QIpyGHjLlulU"
      },
      "execution_count": null,
      "outputs": []
    },
    {
      "cell_type": "code",
      "execution_count": null,
      "metadata": {
        "id": "y0Zf_DX71vj8"
      },
      "outputs": [],
      "source": [
        "import plotly"
      ]
    },
    {
      "cell_type": "code",
      "source": [
        "import json\n",
        "from dash import Dash, html, Input, Output, callback\n",
        "import imageio\n",
        "from dash_slicer import VolumeSlicer\n",
        "\n",
        "\n",
        "app = Dash(__name__, update_title=None)\n",
        "\n",
        "vol = imageio.volread(\"imageio:stent.npz\")\n",
        "slicer = VolumeSlicer(app, vol)\n",
        "slicer.graph.config[\"scrollZoom\"] = False\n",
        "\n",
        "app.layout = html.Div([slicer.graph, slicer.slider, html.Div(id='info'), *slicer.stores])\n",
        "\n",
        "@callback(\n",
        "    Output(\"info\", \"children\"),\n",
        "    Input(slicer.state.id, \"data\")\n",
        ")\n",
        "def update_info(state):\n",
        "    return json.dumps(state, indent=4)\n",
        "\n",
        "\n",
        "if __name__ == \"__main__\":\n",
        "    app.run(debug=True, dev_tools_props_check=False)"
      ],
      "metadata": {
        "id": "8dTMnLcn-632",
        "colab": {
          "base_uri": "https://localhost:8080/",
          "height": 672
        },
        "outputId": "1aa45c2e-eff0-4981-fb01-f58f10b12291"
      },
      "execution_count": null,
      "outputs": [
        {
          "output_type": "display_data",
          "data": {
            "text/plain": [
              "<IPython.core.display.Javascript object>"
            ],
            "application/javascript": [
              "(async (port, path, width, height, cache, element) => {\n",
              "    if (!google.colab.kernel.accessAllowed && !cache) {\n",
              "      return;\n",
              "    }\n",
              "    element.appendChild(document.createTextNode(''));\n",
              "    const url = await google.colab.kernel.proxyPort(port, {cache});\n",
              "    const iframe = document.createElement('iframe');\n",
              "    iframe.src = new URL(path, url).toString();\n",
              "    iframe.height = height;\n",
              "    iframe.width = width;\n",
              "    iframe.style.border = 0;\n",
              "    iframe.allow = [\n",
              "        'accelerometer',\n",
              "        'autoplay',\n",
              "        'camera',\n",
              "        'clipboard-read',\n",
              "        'clipboard-write',\n",
              "        'gyroscope',\n",
              "        'magnetometer',\n",
              "        'microphone',\n",
              "        'serial',\n",
              "        'usb',\n",
              "        'xr-spatial-tracking',\n",
              "    ].join('; ');\n",
              "    element.appendChild(iframe);\n",
              "  })(8050, \"/\", \"100%\", 650, false, window.element)"
            ]
          },
          "metadata": {}
        }
      ]
    },
    {
      "cell_type": "code",
      "source": [],
      "metadata": {
        "id": "m0URQnYMmdZc"
      },
      "execution_count": null,
      "outputs": []
    }
  ]
}