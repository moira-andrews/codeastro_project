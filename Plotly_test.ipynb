{
  "nbformat": 4,
  "nbformat_minor": 0,
  "metadata": {
    "colab": {
      "provenance": [],
      "authorship_tag": "ABX9TyOyUdqwslPpZ7xeDCCQGZK7",
      "include_colab_link": true
    },
    "kernelspec": {
      "name": "python3",
      "display_name": "Python 3"
    },
    "language_info": {
      "name": "python"
    }
  },
  "cells": [
    {
      "cell_type": "markdown",
      "metadata": {
        "id": "view-in-github",
        "colab_type": "text"
      },
      "source": [
        "<a href=\"https://colab.research.google.com/github/moira-andrews/codeastro_project/blob/main/Plotly_test.ipynb\" target=\"_parent\"><img src=\"https://colab.research.google.com/assets/colab-badge.svg\" alt=\"Open In Colab\"/></a>"
      ]
    },
    {
      "cell_type": "code",
      "execution_count": 1,
      "metadata": {
        "id": "y0Zf_DX71vj8"
      },
      "outputs": [],
      "source": [
        "import plotly"
      ]
    },
    {
      "cell_type": "code",
      "source": [],
      "metadata": {
        "id": "8dTMnLcn-632"
      },
      "execution_count": null,
      "outputs": []
    }
  ]
}