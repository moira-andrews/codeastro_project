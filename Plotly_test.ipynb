{
  "nbformat": 4,
  "nbformat_minor": 0,
  "metadata": {
    "colab": {
      "provenance": [],
      "authorship_tag": "ABX9TyOzXUqakKAwOP9I0TPfxIPV",
      "include_colab_link": true
    },
    "kernelspec": {
      "name": "python3",
      "display_name": "Python 3"
    },
    "language_info": {
      "name": "python"
    }
  },
  "cells": [
    {
      "cell_type": "markdown",
      "metadata": {
        "id": "view-in-github",
        "colab_type": "text"
      },
      "source": [
        "<a href=\"https://colab.research.google.com/github/moira-andrews/codeastro_project/blob/main/Plotly_test.ipynb\" target=\"_parent\"><img src=\"https://colab.research.google.com/assets/colab-badge.svg\" alt=\"Open In Colab\"/></a>"
      ]
    },
    {
      "cell_type": "code",
      "execution_count": null,
      "metadata": {
        "id": "y0Zf_DX71vj8"
      },
      "outputs": [],
      "source": [
        "import plotly"
      ]
    },
    {
      "cell_type": "code",
      "source": [
        "from dash import Dash, html\n",
        "import imageio\n",
        "from dash_slicer import VolumeSlicer\n",
        "\n",
        "\n",
        "app = Dash(__name__, update_title=None)\n",
        "\n",
        "vol = imageio.volread(\"imageio:stent.npz\")\n",
        "slicer0 = VolumeSlicer(app, vol, axis=0)\n",
        "slicer1 = VolumeSlicer(app, vol, axis=1)\n",
        "slicer2 = VolumeSlicer(app, vol, axis=2)\n",
        "\n",
        "slicer0.graph.config[\"scrollZoom\"] = False\n",
        "slicer1.graph.config[\"scrollZoom\"] = False\n",
        "slicer2.graph.config[\"scrollZoom\"] = False\n",
        "\n",
        "app.layout = html.Div(\n",
        "    style={\n",
        "        \"display\": \"grid\",\n",
        "        \"gridTemplateColumns\": \"33% 33% 33%\",\n",
        "    },\n",
        "    children=[\n",
        "        html.Div([slicer0.graph, html.Br(), slicer0.slider, *slicer0.stores]),\n",
        "        html.Div([slicer1.graph, html.Br(), slicer1.slider, *slicer1.stores]),\n",
        "        html.Div([slicer2.graph, html.Br(), slicer2.slider, *slicer2.stores]),\n",
        "    ],\n",
        ")\n",
        "\n",
        "\n",
        "if __name__ == \"__main__\":\n",
        "    app.run(debug=True, dev_tools_props_check=False)"
      ],
      "metadata": {
        "id": "8dTMnLcn-632"
      },
      "execution_count": null,
      "outputs": []
    }
  ]
}